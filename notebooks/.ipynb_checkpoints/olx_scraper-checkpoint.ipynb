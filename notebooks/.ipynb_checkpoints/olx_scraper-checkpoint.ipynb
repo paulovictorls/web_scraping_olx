{
 "cells": [
  {
   "cell_type": "code",
   "execution_count": 8,
   "id": "cf643dda",
   "metadata": {},
   "outputs": [],
   "source": [
    "from urllib.request import urlopen, urlretrieve, Request\n",
    "from urllib.error import URLError, HTTPError\n",
    "from bs4 import BeautifulSoup\n",
    "import pandas as pd"
   ]
  },
  {
   "cell_type": "code",
   "execution_count": 10,
   "id": "75f36ae4",
   "metadata": {},
   "outputs": [
    {
     "name": "stdout",
     "output_type": "stream",
     "text": [
      "succesful read\n"
     ]
    }
   ],
   "source": [
    "url = 'https://al.olx.com.br/alagoas/autos-e-pecas/carros-vans-e-utilitarios/up-2018-2018-1-0-mpi-take-up-12v-flex-4p-manual-890670180'\n",
    "headers = {'User-Agent': 'Mozilla/5.0 (Windows NT 10.0; Win64; x64) AppleWebKit/537.36 (KHTML, like Gecko) Chrome/76.0.3809.100 Safari/537.36'}\n",
    "\n",
    "try:\n",
    "    req = Request(url, headers = headers)\n",
    "    response = urlopen(req)\n",
    "    html = response.read().decode('utf-8')\n",
    "    soup = BeautifulSoup(html, 'html.parser')\n",
    "    print('succesful read')\n",
    "    \n",
    "except HTTPError as e:\n",
    "    print(e.status, e.reason)\n",
    "    \n",
    "except URLError as e:\n",
    "    print(e.reason)"
   ]
  },
  {
   "cell_type": "code",
   "execution_count": 113,
   "id": "944dcda5",
   "metadata": {},
   "outputs": [
    {
     "name": "stdout",
     "output_type": "stream",
     "text": [
      "UP 2018/2018 1.0 MPI TAKE UP 12V FLEX 4P MANUAL\n",
      "890670180\n"
     ]
    }
   ],
   "source": [
    "title = soup.find('h1', class_='sc-1q2spfr-0 lcTcEs sc-ifAKCX cmFKIN').get_text()\n",
    "id_anuncio = url[-9:]\n",
    "\n",
    "print(title)\n",
    "print(id_anuncio)"
   ]
  },
  {
   "cell_type": "code",
   "execution_count": 33,
   "id": "fecc15bb",
   "metadata": {},
   "outputs": [
    {
     "data": {
      "text/plain": [
       "'Veículo: VOLKSWAGEN UP 1.0 MPI TAKE UP 12V FLEX 4P MANUAL Ano: 2018... ver número Cor: Branco  Outros opcionais: Rádio e CD Player, Limpador traseiro  Observação:Ficou interessado? Entre em contato para mais informações!'"
      ]
     },
     "execution_count": 33,
     "metadata": {},
     "output_type": "execute_result"
    }
   ],
   "source": [
    "description = soup.find('span', class_='sc-1sj3nln-1 eOSweo sc-ifAKCX cmFKIN').get_text().replace('\\n',' ')\n",
    "description"
   ]
  },
  {
   "cell_type": "code",
   "execution_count": 85,
   "id": "e8b5de72",
   "metadata": {},
   "outputs": [
    {
     "name": "stdout",
     "output_type": "stream",
     "text": [
      "Carros, vans e utilitários\n",
      "VW - VOLKSWAGEN UP! TAKE 1.0 TOTAL FLEX 12V 5P\n",
      "VW - VOLKSWAGEN\n"
     ]
    }
   ],
   "source": [
    "carac = [c.find('a') for c in soup.findAll('div', class_='duvuxf-0 h3us20-0 hCwZcX')]\n",
    "subdata = []\n",
    "for c in carac:\n",
    "    subdata.append(c.get_text())\n",
    "    #print(c.get_text())"
   ]
  },
  {
   "cell_type": "code",
   "execution_count": 86,
   "id": "8c7a0d85",
   "metadata": {},
   "outputs": [
    {
     "name": "stdout",
     "output_type": "stream",
     "text": [
      "Passeio\n",
      "2018\n",
      "73000\n",
      "Flex\n",
      "Manual\n",
      "2 portas\n",
      "9\n"
     ]
    }
   ],
   "source": [
    "carac = soup.findAll('div', class_=\"duvuxf-0 h3us20-0 kjKryV\")\n",
    "all_list = soup.findAll('div', class_='duvuxf-0 h3us20-0 kjKryV')\n",
    "carac = []\n",
    "\n",
    "for i in all_list:\n",
    "    a = i.find('span', class_='sc-ifAKCX cmFKIN')\n",
    "    b = i.find('a')\n",
    "    \n",
    "    if a == None:\n",
    "        subdata.append(b.get_text())\n",
    "        #print(b.get_text())\n",
    "    else:\n",
    "        subdata.append(a.get_text())\n",
    "        #print(a.get_text())"
   ]
  },
  {
   "cell_type": "code",
   "execution_count": 87,
   "id": "5a54ec5c",
   "metadata": {},
   "outputs": [
    {
     "name": "stdout",
     "output_type": "stream",
     "text": [
      "Categoria\n",
      "Modelo\n",
      "Marca\n",
      "Tipo de veículo\n",
      "Ano\n",
      "Quilometragem\n",
      "Combustível\n",
      "Câmbio\n",
      "Portas\n",
      "Final de placa\n"
     ]
    }
   ],
   "source": [
    "carac = soup.findAll('span', class_='sc-ifAKCX dCObfG')\n",
    "carac.pop()\n",
    "data = []\n",
    "for c in carac:\n",
    "    data.append(c.get_text())\n",
    "    #print(c.get_text())"
   ]
  },
  {
   "cell_type": "code",
   "execution_count": 94,
   "id": "6c99f0fe",
   "metadata": {},
   "outputs": [
    {
     "name": "stdout",
     "output_type": "stream",
     "text": [
      "Opcionais: \n",
      "\n",
      "Trava elétrica\n",
      "Ar condicionado\n",
      "Direção hidráulica\n",
      "Alarme\n"
     ]
    }
   ],
   "source": [
    "carac = soup.find('div', class_='sc-bwzfXH h3us20-0 cNYGOs').findAll('div', class_=\"duvuxf-0 h3us20-0 jyICCp\")\n",
    "opcionais = []\n",
    "print('Opcionais: \\n')\n",
    "for c in carac:\n",
    "    opcionais.append(c.get_text())\n",
    "    print(c.get_text())"
   ]
  },
  {
   "cell_type": "code",
   "execution_count": 95,
   "id": "c25acd0d",
   "metadata": {},
   "outputs": [
    {
     "name": "stdout",
     "output_type": "stream",
     "text": [
      "Localização: \n",
      "\n",
      "cep: 57081285\n",
      "cidade: Maceió\n",
      "bairro: Tabuleiro do Martins\n"
     ]
    }
   ],
   "source": [
    "localizacao = soup.find('div', class_='h3us20-6 govcZZ').findAll('dd', class_='sc-1f2ug0x-1 ljYeKO sc-ifAKCX kaNiaQ')\n",
    "dados = ['cep', 'cidade', 'bairro']\n",
    "count = 0\n",
    "print('Localização: \\n')\n",
    "for c in localizacao:\n",
    "    print(dados[count] + ': ' + c.get_text())\n",
    "    count+=1"
   ]
  },
  {
   "cell_type": "code",
   "execution_count": 96,
   "id": "fc558bb2",
   "metadata": {},
   "outputs": [
    {
     "name": "stdout",
     "output_type": "stream",
     "text": [
      "dados: \n",
      "\n",
      "Categoria:  Carros, vans e utilitários\n",
      "Modelo:  VW - VOLKSWAGEN UP! TAKE 1.0 TOTAL FLEX 12V 5P\n",
      "Marca:  VW - VOLKSWAGEN\n",
      "Tipo de veículo:  Passeio\n",
      "Ano:  2018\n",
      "Quilometragem:  73000\n",
      "Combustível:  Flex\n",
      "Câmbio:  Manual\n",
      "Portas:  2 portas\n",
      "Final de placa:  9\n"
     ]
    }
   ],
   "source": [
    "n = len(data)\n",
    "count = 0\n",
    "\n",
    "print('dados: \\n')\n",
    "\n",
    "for d in data:\n",
    "    print(data[count] + ':  ' + subdata[count])\n",
    "    count+=1"
   ]
  },
  {
   "cell_type": "code",
   "execution_count": 116,
   "id": "bbb28d51",
   "metadata": {},
   "outputs": [],
   "source": [
    "lista = soup.find('div', class_='h3us20-6 fAprjt').findAll('img', class_='image')\n",
    "\n",
    "count=1\n",
    "for i in lista:\n",
    "    urlretrieve(i.get('src'), './output/img/' + id_anuncio + '_' + str(count) + '.jpg')\n",
    "    count+=1"
   ]
  },
  {
   "cell_type": "code",
   "execution_count": 107,
   "id": "e1077791",
   "metadata": {},
   "outputs": [],
   "source": []
  },
  {
   "cell_type": "code",
   "execution_count": null,
   "id": "d73ace08",
   "metadata": {},
   "outputs": [],
   "source": []
  },
  {
   "cell_type": "code",
   "execution_count": null,
   "id": "c70d32a9",
   "metadata": {},
   "outputs": [],
   "source": []
  },
  {
   "cell_type": "code",
   "execution_count": null,
   "id": "f3a85720",
   "metadata": {},
   "outputs": [],
   "source": []
  },
  {
   "cell_type": "code",
   "execution_count": 1,
   "id": "4821a976",
   "metadata": {},
   "outputs": [
    {
     "ename": "NameError",
     "evalue": "name 'soup' is not defined",
     "output_type": "error",
     "traceback": [
      "\u001b[1;31m---------------------------------------------------------------------------\u001b[0m",
      "\u001b[1;31mNameError\u001b[0m                                 Traceback (most recent call last)",
      "\u001b[1;32m~\\AppData\\Local\\Temp/ipykernel_13232/2212616996.py\u001b[0m in \u001b[0;36m<module>\u001b[1;34m\u001b[0m\n\u001b[1;32m----> 1\u001b[1;33m \u001b[0msoup\u001b[0m\u001b[1;33m\u001b[0m\u001b[1;33m\u001b[0m\u001b[0m\n\u001b[0m",
      "\u001b[1;31mNameError\u001b[0m: name 'soup' is not defined"
     ]
    }
   ],
   "source": []
  },
  {
   "cell_type": "code",
   "execution_count": null,
   "id": "7beecc49",
   "metadata": {},
   "outputs": [],
   "source": []
  },
  {
   "cell_type": "code",
   "execution_count": null,
   "id": "de0af862",
   "metadata": {},
   "outputs": [],
   "source": []
  },
  {
   "cell_type": "code",
   "execution_count": null,
   "id": "8d3012a0",
   "metadata": {},
   "outputs": [],
   "source": []
  },
  {
   "cell_type": "code",
   "execution_count": null,
   "id": "9a965b51",
   "metadata": {},
   "outputs": [],
   "source": []
  },
  {
   "cell_type": "code",
   "execution_count": null,
   "id": "23b7e286",
   "metadata": {},
   "outputs": [],
   "source": []
  },
  {
   "cell_type": "code",
   "execution_count": null,
   "id": "b8dc4ebd",
   "metadata": {},
   "outputs": [],
   "source": []
  },
  {
   "cell_type": "code",
   "execution_count": null,
   "id": "97aa7acd",
   "metadata": {},
   "outputs": [],
   "source": [
    "## Obtendo o HTML\n",
    "response = urlopen('https://alura-site-scraping.herokuapp.com/index.php?page=' + str(i + 1))\n",
    "html = response.read().decode('utf-8')\n",
    "soup = BeautifulSoup(html, 'html.parser')\n",
    "\n",
    "# Obtendo as TAGs de interesse\n",
    "anuncios = soup.find('div', {\"id\": \"container-cards\"}).findAll('div', class_=\"card\")\n",
    "\n",
    "# Coletando as informações dos CARDS\n",
    "for anuncio in anuncios:\n",
    "    card = {}\n",
    "\n",
    "    # Valor\n",
    "    card['value'] = anuncio.find('p', {'class': 'txt-value'}).getText()\n",
    "\n",
    "    # Informações\n",
    "    infos = anuncio.find('div', {'class': 'body-card'}).findAll('p')\n",
    "    for info in infos:\n",
    "        card[info.get('class')[0].split('-')[-1]] = info.get_text()\n",
    "\n",
    "    # Acessórios\n",
    "    items = anuncio.find('div', {'class': 'body-card'}).ul.findAll('li')\n",
    "    items.pop()\n",
    "    acessorios = []\n",
    "    for item in items:\n",
    "        acessorios.append(item.get_text().replace('► ', ''))\n",
    "    card['items'] = acessorios\n",
    "\n",
    "    # Adicionando resultado a lista cards\n",
    "    cards.append(card)\n",
    "\n",
    "    # Imagens\n",
    "    image = anuncio.find('div', {'class': 'image-card'}).img\n",
    "    urlretrieve(image.get('src'), './output/img/' + image.get('src').split('/')[-1])     "
   ]
  }
 ],
 "metadata": {
  "kernelspec": {
   "display_name": "Python 3 (ipykernel)",
   "language": "python",
   "name": "python3"
  },
  "language_info": {
   "codemirror_mode": {
    "name": "ipython",
    "version": 3
   },
   "file_extension": ".py",
   "mimetype": "text/x-python",
   "name": "python",
   "nbconvert_exporter": "python",
   "pygments_lexer": "ipython3",
   "version": "3.9.7"
  }
 },
 "nbformat": 4,
 "nbformat_minor": 5
}
