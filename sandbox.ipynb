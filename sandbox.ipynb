{
 "cells": [
  {
   "cell_type": "code",
   "execution_count": null,
   "metadata": {},
   "outputs": [],
   "source": [
    "from fastavro import sch"
   ]
  },
  {
   "cell_type": "code",
   "execution_count": 7,
   "metadata": {},
   "outputs": [],
   "source": [
    "import fastavro\n",
    "\n",
    "def create_avro_schema(input_dict, schema_name='MySchema'):\n",
    "    fields = []\n",
    "    for key, value in input_dict.items():\n",
    "        field_type = 'string'\n",
    "        if isinstance(value, int):\n",
    "            field_type = 'int'\n",
    "        elif isinstance(value, float):\n",
    "            field_type = 'float'\n",
    "        elif isinstance(value, bool):\n",
    "            field_type = 'boolean'\n",
    "        elif isinstance(value, list):\n",
    "            if len(value) > 0:\n",
    "                field_type = {'type': 'array', 'items': 'string'}\n",
    "        elif isinstance(value, dict):\n",
    "            field_type = {'type': 'record', 'name': f'{schema_name}_{key}', 'fields': create_avro_schema(value, schema_name=f'{schema_name}_{key}')['fields']}\n",
    "        fields.append({'name': key, 'type': [field_type, 'null']})\n",
    "\n",
    "    schema = {\n",
    "        'type': 'record',\n",
    "        'name': schema_name,\n",
    "        'fields': fields\n",
    "    }\n",
    "\n",
    "    return schema\n",
    "\n",
    "# Example input dictionary\n",
    "input_dict = {'name': 'John', 'age': 30, 'is_active': True, 'hobbies': ['reading', 'swimming'], 'test': {\"1\": 2}}\n",
    "\n",
    "# Generate Avro schema from input dictionary\n",
    "avro_schema = create_avro_schema(input_dict)\n",
    "\n",
    "# # Print Avro schema as JSON\n",
    "# print(fastavro.schemaless_writer_meta(avro_schema))\n"
   ]
  },
  {
   "cell_type": "code",
   "execution_count": 8,
   "metadata": {},
   "outputs": [
    {
     "data": {
      "text/plain": [
       "{'type': 'record',\n",
       " 'name': 'MySchema',\n",
       " 'fields': [{'name': 'name', 'type': ['string', 'null']},\n",
       "  {'name': 'age', 'type': ['int', 'null']},\n",
       "  {'name': 'is_active', 'type': ['int', 'null']},\n",
       "  {'name': 'hobbies', 'type': [{'type': 'array', 'items': 'string'}, 'null']},\n",
       "  {'name': 'test',\n",
       "   'type': [{'type': 'record',\n",
       "     'name': 'MySchema_test',\n",
       "     'fields': [{'name': '1', 'type': ['int', 'null']}]},\n",
       "    'null']}]}"
      ]
     },
     "execution_count": 8,
     "metadata": {},
     "output_type": "execute_result"
    }
   ],
   "source": [
    "avro_schema"
   ]
  },
  {
   "cell_type": "code",
   "execution_count": 1,
   "metadata": {},
   "outputs": [],
   "source": [
    "# Importing libraries\n",
    "\n",
    "from urllib.request import urlopen, urlretrieve, Request\n",
    "from urllib.error import URLError, HTTPError\n",
    "from bs4 import BeautifulSoup\n",
    "import pandas as pd\n",
    "from tqdm.notebook import tqdm_notebook\n",
    "from math import ceil\n",
    "from datetime import datetime\n",
    "from pathlib import Path"
   ]
  },
  {
   "cell_type": "code",
   "execution_count": 2,
   "metadata": {},
   "outputs": [],
   "source": [
    "def url_reader(url) -> object:\n",
    "\n",
    "    \"\"\"\"\n",
    "    This function reads the html code of the url and returns a BeautifulSoup object.\n",
    "\n",
    "    Parameters:\n",
    "    url (str): The url to be read.\n",
    "    \"\"\"\n",
    "\n",
    "    # Need to set user agent to avoid 403 error\n",
    "    headers = {'User-Agent': 'Mozilla/5.0 (Windows NT 10.0; Win64; x64) AppleWebKit/537.36 (KHTML, like Gecko) Chrome/76.0.3809.100 Safari/537.36'}\n",
    "\n",
    "    try:\n",
    "        req = Request(url, headers = headers)\n",
    "        response = urlopen(req)\n",
    "        html = response.read().decode('utf-8')\n",
    "        soup_obj = BeautifulSoup(html, 'html.parser')\n",
    "        return soup_obj\n",
    "\n",
    "    except HTTPError as e:\n",
    "        print(e.status, e.reason)\n",
    "\n",
    "    except URLError as e:\n",
    "        print(e.reason)"
   ]
  },
  {
   "cell_type": "code",
   "execution_count": 44,
   "metadata": {},
   "outputs": [],
   "source": [
    "soup = url_reader('https://al.olx.com.br/alagoas/imoveis?o=1')"
   ]
  },
  {
   "cell_type": "code",
   "execution_count": 45,
   "metadata": {},
   "outputs": [],
   "source": [
    "# Gets the number of pages and ads\n",
    "aux = soup.find('span', class_=\"sc-1mi5vq6-0 eDXljX sc-bdVaJa juraBY\").get_text().split()\n",
    "ad_per_page = int(aux[2])\n",
    "n_total_ads = int(aux[-2].replace('.', ''))\n",
    "\n",
    "number_of_pages=1\n",
    "# If number_of_pages is not specified, calculate the number of pages\n",
    "if number_of_pages is not None:\n",
    "    n_pages = number_of_pages\n",
    "else:\n",
    "    n_pages = ceil(n_total_ads/ad_per_page)"
   ]
  },
  {
   "cell_type": "code",
   "execution_count": 46,
   "metadata": {},
   "outputs": [],
   "source": [
    "ad_list = soup.findAll('a', class_='sc-12rk7z2-1 huFwya sc-giadOv dXANPZ')\n",
    "ad_links = [ad.get('href') for ad in ad_list]"
   ]
  },
  {
   "cell_type": "code",
   "execution_count": 47,
   "metadata": {},
   "outputs": [],
   "source": [
    "aux = str(soup.findAll('a', class_='sc-12rk7z2-1 huFwya sc-giadOv dXANPZ')[0])"
   ]
  },
  {
   "cell_type": "code",
   "execution_count": 48,
   "metadata": {},
   "outputs": [
    {
     "data": {
      "text/plain": [
       "['casa-em-paripueira-1070176788']"
      ]
     },
     "execution_count": 48,
     "metadata": {},
     "output_type": "execute_result"
    }
   ],
   "source": [
    "# regex to get the ad url from the html code\n",
    "import re\n",
    "reg1 = r'href=\"https://al.olx.com.br/alagoas/imoveis/(.*?)\"'\n",
    "regex = re.compile(reg1)\n",
    "regex.findall(aux)"
   ]
  },
  {
   "cell_type": "code",
   "execution_count": 49,
   "metadata": {},
   "outputs": [
    {
     "data": {
      "text/plain": [
       "['casa-em-paripueira-107017678']"
      ]
     },
     "execution_count": 49,
     "metadata": {},
     "output_type": "execute_result"
    }
   ],
   "source": [
    "# regex to get the ad url from the html code that ends with a number\n",
    "reg2 = r'href=\"https://al.olx.com.br/alagoas/imoveis/(.*?)\\d\"'\n",
    "regex2 = re.compile(reg2)\n",
    "regex2.findall(aux)"
   ]
  },
  {
   "cell_type": "code",
   "execution_count": 41,
   "metadata": {},
   "outputs": [
    {
     "data": {
      "text/plain": [
       "re.compile(r'href=\"https://al.olx.com.br/alagoas/imoveis/(.*?)\\d\"', re.UNICODE)"
      ]
     },
     "execution_count": 41,
     "metadata": {},
     "output_type": "execute_result"
    }
   ],
   "source": [
    "regex2"
   ]
  },
  {
   "cell_type": "code",
   "execution_count": 19,
   "metadata": {},
   "outputs": [
    {
     "data": {
      "text/plain": [
       "[]"
      ]
     },
     "execution_count": 19,
     "metadata": {},
     "output_type": "execute_result"
    }
   ],
   "source": []
  },
  {
   "cell_type": "code",
   "execution_count": 50,
   "metadata": {},
   "outputs": [],
   "source": [
    "reg2 = r'href=\"(https://al.olx.com.br/alagoas/imoveis/.*?)\"'\n",
    "link_list = re.findall(reg2, str(soup))"
   ]
  },
  {
   "cell_type": "code",
   "execution_count": 51,
   "metadata": {},
   "outputs": [],
   "source": [
    "link_list = [link for link in link_list if link[-1].isdigit()]"
   ]
  },
  {
   "cell_type": "code",
   "execution_count": 52,
   "metadata": {},
   "outputs": [
    {
     "data": {
      "text/plain": [
       "['https://al.olx.com.br/alagoas/imoveis/casa-em-paripueira-1070176788',\n",
       " 'https://al.olx.com.br/alagoas/imoveis/casa-de-alto-padrao-a-venda-no-condominio-atlantis-4-quartos-4-banheiros-4-vagas-947107441',\n",
       " 'https://al.olx.com.br/alagoas/imoveis/apartamento-a-venda-em-poco-75-m2-3-quartos-maceio-alagoas-1038171766',\n",
       " 'https://al.olx.com.br/alagoas/imoveis/apartamento-para-venda-possui-73-metros-quadrados-com-3-quartos-em-poco-maceio-al-1070176498',\n",
       " 'https://al.olx.com.br/alagoas/imoveis/apartamento-a-venda-na-jatiuca-106m2-3-quartos-3-suites-2-vagas-edificio-gior-978471846',\n",
       " 'https://al.olx.com.br/alagoas/imoveis/opcao-maravilhosa-na-regiao-mais-cobicada-da-ponta-verde-1070175939',\n",
       " 'https://al.olx.com.br/alagoas/imoveis/casa-a-vendo-no-laguna-1054753835',\n",
       " 'https://al.olx.com.br/alagoas/imoveis/apartamento-no-coracao-da-ponta-verde-1020476033',\n",
       " 'https://al.olx.com.br/alagoas/imoveis/casa-em-condominio-para-venda-em-paripueira-aguas-norte-3-dormitorios-3-banheiros-1064102863',\n",
       " 'https://al.olx.com.br/alagoas/imoveis/casa-com-3-suites-jardins-perucaba-1-1062326562',\n",
       " 'https://al.olx.com.br/alagoas/imoveis/casa-condominio-laguna-litoral-sul-4-suites-maceio-marechal-deodoro-988749567',\n",
       " 'https://al.olx.com.br/alagoas/imoveis/casa-para-venda-em-marechal-deodoro-barra-nova-5-dormitorios-4-suites-6-banheiros-5-v-944283706',\n",
       " 'https://al.olx.com.br/alagoas/imoveis/super-casa-no-jardins-perucaba-1-1062326552',\n",
       " 'https://al.olx.com.br/alagoas/imoveis/ap-3-quartos-com-moveis-fixos-1066265297',\n",
       " 'https://al.olx.com.br/alagoas/imoveis/casa-a-venda-no-condominio-san-nicolas-309m-3-suites-maceio-alagoas-1042943609',\n",
       " 'https://al.olx.com.br/alagoas/imoveis/03-quartos-sendo-01-suite-varanda-01-vaga-no-stella-maris-agende-sua-visita-1025395501',\n",
       " 'https://al.olx.com.br/alagoas/imoveis/casa-no-poco-1070168457',\n",
       " 'https://al.olx.com.br/alagoas/imoveis/casa-a-venda-nova-com-3-dormitorios-264m-de-area-total-marechal-deodoro-litoral-sul-de-1016752405',\n",
       " 'https://al.olx.com.br/alagoas/imoveis/casa-para-venda-possui-234m-com-5-quartos-sendo-4-suites-frances-marechal-deodoro-916607959',\n",
       " 'https://al.olx.com.br/alagoas/imoveis/aluguel-de-quartos-para-meninas-1070168029',\n",
       " 'https://al.olx.com.br/alagoas/imoveis/apartamento-para-aluguel-com-73-metros-quadrados-com-3-quartos-em-mangabeiras-maceio-a-1046998152',\n",
       " 'https://al.olx.com.br/alagoas/imoveis/espetacular-4-suites-na-area-mais-nobre-do-bairro-do-farol-1025632136',\n",
       " 'https://al.olx.com.br/alagoas/imoveis/vendo-cobertura-com-222-metros-quadrados-e-3-quartos-em-jatiuca-maceio-al-905816366',\n",
       " 'https://al.olx.com.br/alagoas/imoveis/apartamento-c-3-quartos-varanda-e-mobiliado-c-planejados-no-melhor-do-farol-1049812391',\n",
       " 'https://al.olx.com.br/alagoas/imoveis/viver-a-beira-mar-na-p-verde-1024738155',\n",
       " 'https://al.olx.com.br/alagoas/imoveis/apartamento-com-2-dormitorios-a-venda-64-m-por-r-540-000-00-ponta-verde-maceio-al-1065104235',\n",
       " 'https://al.olx.com.br/alagoas/imoveis/apartamento-com-2-dormitorios-a-venda-65-m-por-r-580-000-00-pajucara-maceio-al-1036993054',\n",
       " 'https://al.olx.com.br/alagoas/imoveis/casa-para-venda-em-condominio-tem-543-m2-com-5-quartos-em-jacarecica-maceio-alagoas-1029027395',\n",
       " 'https://al.olx.com.br/alagoas/imoveis/apartamento-na-barra-de-sao-miguel-alagoas-961543072',\n",
       " 'https://al.olx.com.br/alagoas/imoveis/park-boa-vista-para-venda-tem-51-metros-quadrados-com-2-quartos-em-sao-jorge-maceio-al-983365356',\n",
       " 'https://al.olx.com.br/alagoas/imoveis/apartamentos-em-sao-miguel-dos-milagres-beira-mar-1018090212',\n",
       " 'https://al.olx.com.br/alagoas/imoveis/excelente-oportunidade-de-moradia-em-condominio-paradisiaco-1047084997',\n",
       " 'https://al.olx.com.br/alagoas/imoveis/casa-dulpex-em-petropolis-380m-condominio-fechado-919258576',\n",
       " 'https://al.olx.com.br/alagoas/imoveis/fantastico-apartamento-na-jatiuca-nascente-reformado-1070165480',\n",
       " 'https://al.olx.com.br/alagoas/imoveis/exclusivo-beira-mar-de-luxo-1004357483',\n",
       " 'https://al.olx.com.br/alagoas/imoveis/casa-para-venda-possui-440-metros-quadrados-com-4-quartos-no-san-nicolas-924464551',\n",
       " 'https://al.olx.com.br/alagoas/imoveis/arte-vida-na-gruta-de-luordes-1065608299',\n",
       " 'https://al.olx.com.br/alagoas/imoveis/fantastico-apartamento-no-coracao-da-ponta-verde-1070164675',\n",
       " 'https://al.olx.com.br/alagoas/imoveis/maceio-apartamento-padrao-farol-1055730383',\n",
       " 'https://al.olx.com.br/alagoas/imoveis/maceio-apartamento-padrao-farol-900239001',\n",
       " 'https://al.olx.com.br/alagoas/imoveis/alugo-apartamento-na-serraria-bem-localizado-2-4-1070164273',\n",
       " 'https://al.olx.com.br/alagoas/imoveis/casa-residencial-para-venda-e-locacao-condominio-frances-ville-marechal-deodoro-ca0011-1060903299',\n",
       " 'https://al.olx.com.br/alagoas/imoveis/apartamento-residencial-a-venda-jacarecica-maceio-ap0071-1060906800']"
      ]
     },
     "execution_count": 52,
     "metadata": {},
     "output_type": "execute_result"
    }
   ],
   "source": [
    "link_list"
   ]
  },
  {
   "cell_type": "code",
   "execution_count": 55,
   "metadata": {},
   "outputs": [],
   "source": [
    "# re.findall(r'https://al.olx.com.br/alagoas/imoveis/venda.*\"', str(soup))"
   ]
  },
  {
   "cell_type": "code",
   "execution_count": 14,
   "metadata": {},
   "outputs": [
    {
     "data": {
      "text/plain": [
       "[]"
      ]
     },
     "execution_count": 14,
     "metadata": {},
     "output_type": "execute_result"
    }
   ],
   "source": [
    "soup.find_all(re.compile('https://al.olx.com.br/alagoas/imoveis/'))"
   ]
  },
  {
   "cell_type": "code",
   "execution_count": 11,
   "metadata": {},
   "outputs": [
    {
     "data": {
      "text/plain": [
       "['https://al.olx.com.br/alagoas/imoveis/casa-1069799015',\n",
       " 'https://al.olx.com.br/alagoas/imoveis/vend-excelente-apartamento-porteira-fechada-dois-quartos-no-farol-1069795756',\n",
       " 'https://al.olx.com.br/alagoas/imoveis/cobertura-5-4-210m-porteira-fechada-baixou-917217152',\n",
       " 'https://al.olx.com.br/alagoas/imoveis/casa-a-venda-no-bairro-cidade-universitaria-maceio-al-1069773135',\n",
       " 'https://al.olx.com.br/alagoas/imoveis/casa-a-venda-no-bairro-cidade-universitaria-maceio-al-1069773117',\n",
       " 'https://al.olx.com.br/alagoas/imoveis/edificio-divane-luna-apartamentos-a-venda-em-maceio-jatiuca-com-3-quartos-sendo-1-sui-1069772209',\n",
       " 'https://al.olx.com.br/alagoas/imoveis/apartamento-proximo-ao-shopping-patio-1059504687',\n",
       " 'https://al.olx.com.br/alagoas/imoveis/apartamentos-de-3-ou-4-suites-na-beira-mar-uma-obra-de-arte-planejado-para-voce-cruz-da-1069771688',\n",
       " 'https://al.olx.com.br/alagoas/imoveis/vendo-apartamento-medeiros-neto-1-r-70mil-1069767381',\n",
       " 'https://al.olx.com.br/alagoas/imoveis/casa-5-quartos-no-murilopolis-em-rua-fechada-com-guarita-1028657214',\n",
       " 'https://al.olx.com.br/alagoas/imoveis/apartamento-para-venda-em-maceio-barro-duro-3-dormitorios-1-suite-2-banheiros-2-vagas-1069767123',\n",
       " 'https://al.olx.com.br/alagoas/imoveis/cobertura-para-venda-com-138m2-em-ponta-verde-maceio-alagoas-959792820',\n",
       " 'https://al.olx.com.br/alagoas/imoveis/vendo-apartamento-conj-jose-tenorio-r-90mil-1069766305',\n",
       " 'https://al.olx.com.br/alagoas/imoveis/apartamento-para-venda-em-maceio-barro-duro-3-dormitorios-1-suite-2-banheiros-2-vagas-1069766300',\n",
       " 'https://al.olx.com.br/alagoas/imoveis/edificio-turquesa-apartamento-com-3-dormitorios-a-venda-80-m-por-r-300-000-jatiuca-1069764880',\n",
       " 'https://al.olx.com.br/alagoas/imoveis/casa-conjunto-pajucara-poco-1025918517',\n",
       " 'https://al.olx.com.br/alagoas/imoveis/apartamento-para-venda-possui-188-metros-quadrados-com-4-quartos-em-ponta-verde-maceio-1069764727',\n",
       " 'https://al.olx.com.br/alagoas/imoveis/apartamento-para-venda-possui-188-metros-quadrados-com-4-quartos-em-ponta-verde-maceio-1069764730',\n",
       " 'https://al.olx.com.br/alagoas/imoveis/casa-para-venda-possui-385-metros-quadrados-com-5-quartos-em-gruta-de-lourdes-maceio-a-953837504',\n",
       " 'https://al.olx.com.br/alagoas/imoveis/duas-casas-para-venda-temos-conversa-no-valor-1034048167',\n",
       " 'https://al.olx.com.br/alagoas/imoveis/maceio-apartamento-padrao-serraria-921767499',\n",
       " 'https://al.olx.com.br/alagoas/imoveis/vendo-ou-troco--leia-a-descricao-1055266917',\n",
       " 'https://al.olx.com.br/alagoas/imoveis/casa-de-condominio-para-venda-tem-687-metros-quadrados-com-4-quartos-1060321923',\n",
       " 'https://al.olx.com.br/alagoas/imoveis/edificio-allure-apartamento-com-3-dormitorios-a-venda-107-m-por-r-1-150-000-ponta-ver-1069762496',\n",
       " 'https://al.olx.com.br/alagoas/imoveis/cobertura-para-venda-com-207-metros-quadrados-e-3-quartos-em-ponta-verde-maceio-al-988335330',\n",
       " 'https://al.olx.com.br/alagoas/imoveis/apartamento-com-2-dormitorios-a-venda-45-m-por-r-250-000-00-serraria-maceio-al-1018271944',\n",
       " 'https://al.olx.com.br/alagoas/imoveis/apartamento-para-venda-possui-76-metros-quadrados-com-3-quartos-em-jatiuca-maceio-al-985254698',\n",
       " 'https://al.olx.com.br/alagoas/imoveis/edificio-kairos-lancamento-1062637293',\n",
       " 'https://al.olx.com.br/alagoas/imoveis/casa-condominio-fechado-beira-mar-em-ipioca-976467599',\n",
       " 'https://al.olx.com.br/alagoas/imoveis/apartamento-na-primeira-quadra-da-praia-de-ponta-verde-264m-4-quartos-1025156376',\n",
       " 'https://al.olx.com.br/alagoas/imoveis/apartamento-no-santo-eduardo-3-4-1055767045',\n",
       " 'https://al.olx.com.br/alagoas/imoveis/grenache-lancamento-no-stella-maris-vizinho-ao-corredor-vera-arruda-998877496',\n",
       " 'https://al.olx.com.br/alagoas/imoveis/casa-em-condominio-no-feitosa-maceio-1060904155',\n",
       " 'https://al.olx.com.br/alagoas/imoveis/apartamento-de-36m2-na-ponta-verde-926055113',\n",
       " 'https://al.olx.com.br/alagoas/imoveis/condominio-no-antares-5-4-3-suites-2-vagas-espaco-gourmet-com-piscina-1044044634',\n",
       " 'https://al.olx.com.br/alagoas/imoveis/apartamento-novo-com-3-quartos-2-suites-grande-oportunidade-no-barro-duro-935545896',\n",
       " 'https://al.olx.com.br/alagoas/imoveis/apartamento-residencial-em-maceio-al-farol-1040424108',\n",
       " 'https://al.olx.com.br/alagoas/imoveis/apartamento-residencial-a-venda-jatiuca-maceio-902636774',\n",
       " 'https://al.olx.com.br/alagoas/imoveis/vendo-belissimo-apto-com-265m-na-jatiuca-1-qd-do-mar-pronto-de-armarios-confira-994853979',\n",
       " 'https://al.olx.com.br/alagoas/imoveis/apartamento-para-venda-tem-120-metros-quadrados-com-3-quartos-dce-em-farol-maceio-al-1048982348',\n",
       " 'https://al.olx.com.br/alagoas/imoveis/casa-de-condominio-para-venda-possui-300-metros-quadrados-com-4-quartos-1061479644',\n",
       " 'https://al.olx.com.br/alagoas/imoveis/apartamento-para-venda-tem-75-metros-quadrados-com-3-quartos-em-ponta-verde-maceio-985699511',\n",
       " 'https://al.olx.com.br/alagoas/imoveis/excelente-oportunidade-casa-terrea-no-eustaquio-cidade-unioversitaria-909690480',\n",
       " 'https://al.olx.com.br/alagoas/imoveis/apartamento-120m-nascente-andar-alto-vista-total-mar-vaga-para-2-carros-farol-1053075632',\n",
       " 'https://al.olx.com.br/alagoas/imoveis/casa-400m-7-quartos-varanda-gourmet-piscina-e-vista-pro-mar-cond-oceanis-1041830060',\n",
       " 'https://al.olx.com.br/alagoas/imoveis/casa-4-suites-sala-de-cinema-piscina-410m-alto-padrao-condominio-aldebaran-maceio-1020531623',\n",
       " 'https://al.olx.com.br/alagoas/imoveis/apartamento-a-venda-3-4-com-varanda-gourmet-prox-a-felicia-1055611019',\n",
       " 'https://al.olx.com.br/alagoas/imoveis/maceio-apartamento-padrao-ponta-verde-1069755145',\n",
       " 'https://al.olx.com.br/alagoas/imoveis/jardim-do-horto-gruta-de-lourdes-para-venda-possui-490-metros-quadrados-com-5-quartos-983372775',\n",
       " 'https://al.olx.com.br/alagoas/imoveis/novitta-2-quartos-gruta-de-lourdes-1036687072']"
      ]
     },
     "execution_count": 11,
     "metadata": {},
     "output_type": "execute_result"
    }
   ],
   "source": [
    "ad_links"
   ]
  },
  {
   "cell_type": "code",
   "execution_count": null,
   "metadata": {},
   "outputs": [],
   "source": []
  },
  {
   "cell_type": "code",
   "execution_count": null,
   "metadata": {},
   "outputs": [],
   "source": []
  },
  {
   "cell_type": "code",
   "execution_count": null,
   "metadata": {},
   "outputs": [],
   "source": []
  },
  {
   "cell_type": "code",
   "execution_count": 62,
   "metadata": {},
   "outputs": [],
   "source": [
    "def is_valid(link, base_link):\n",
    "    return link[-1].isdigit() and link.startswith(f'{base_link}/')\n",
    "\n",
    "def get_ads_list(soup, base_link):\n",
    "    regex = fr'href=\"({base_link}.*?)\"'\n",
    "    link_list = re.findall(regex, str(soup))\n",
    "    return [link for link in link_list if is_valid(link, base_link)]"
   ]
  },
  {
   "cell_type": "code",
   "execution_count": 53,
   "metadata": {},
   "outputs": [],
   "source": [
    "url = 'https://al.olx.com.br/alagoas/imoveis?o=1'\n",
    "soup = url_reader(url)"
   ]
  },
  {
   "cell_type": "code",
   "execution_count": 63,
   "metadata": {},
   "outputs": [],
   "source": [
    "ad_links = get_ads_list(soup, 'https://al.olx.com.br/alagoas/imoveis')"
   ]
  },
  {
   "cell_type": "code",
   "execution_count": 64,
   "metadata": {},
   "outputs": [
    {
     "data": {
      "text/plain": [
       "['https://al.olx.com.br/alagoas/imoveis/vendo-casa-no-clima-bom-2-1070693721',\n",
       " 'https://al.olx.com.br/alagoas/imoveis/casa-antares-cambuci-proximo-a-tudo-1070690127',\n",
       " 'https://al.olx.com.br/alagoas/imoveis/apt-de-1-quarto-super-luxo-sala-de-estudo-academia-piscina-proximo-a-unit-e-shopping-635370758',\n",
       " 'https://al.olx.com.br/alagoas/imoveis/aluga-se-uma-casa-1070688551',\n",
       " 'https://al.olx.com.br/alagoas/imoveis/apart-no-stela-maris-87-metros-1031941120',\n",
       " 'https://al.olx.com.br/alagoas/imoveis/vendo-otima-vila-no-vilage-9-casas-todas-alugadas-1051290712',\n",
       " 'https://al.olx.com.br/alagoas/imoveis/jatiuca-vizinho-corredor-vera-arruda-2-qtos-1-ste-e-varanda-area-de-lazer-completa-1009460100',\n",
       " 'https://al.olx.com.br/alagoas/imoveis/loft-de-praia-em-sao-miguel-dos-milagres-1070242822',\n",
       " 'https://al.olx.com.br/alagoas/imoveis/casa-sitio-fazenda-prox-frances-1070666918',\n",
       " 'https://al.olx.com.br/alagoas/imoveis/apartamento-3quartos-serraria-1070666026',\n",
       " 'https://al.olx.com.br/alagoas/imoveis/casa-com-2-dormitorios-a-venda-50-m-por-r-145-000-00-cidade-universitaria-maceio-al-1070665962',\n",
       " 'https://al.olx.com.br/alagoas/imoveis/extra--2-4-apartamento-cidade-jardim-1070665918',\n",
       " 'https://al.olx.com.br/alagoas/imoveis/casa-pe-na-areia-em-milagres-al-1070664806',\n",
       " 'https://al.olx.com.br/alagoas/imoveis/milano-2-vendo-chave-oportunidade-1070662872',\n",
       " 'https://al.olx.com.br/alagoas/imoveis/maceio-apartamento-padrao-jacarecica-1070662341',\n",
       " 'https://al.olx.com.br/alagoas/imoveis/apartamento-com-2-dormitorios-a-venda-50-m-por-r-415-000-jatiuca-maceio-al-1070661262',\n",
       " 'https://al.olx.com.br/alagoas/imoveis/casa-com-2-dormitorios-venda-por-r-490-000-00-ou-aluguel-por-r-3-500-00-mes-massague-1070660315',\n",
       " 'https://al.olx.com.br/alagoas/imoveis/ultimas-unidades-lindo-apartamento-com-02-quartos-materiais-e-acabamento-de-primeira-gra-1070652435',\n",
       " 'https://al.olx.com.br/alagoas/imoveis/apartamento-com-a-melhor-area-de-lazer-da-cidade-1070651449',\n",
       " 'https://al.olx.com.br/alagoas/imoveis/cobertura-para-venda-em-maceio-ponta-verde-3-dormitorios-1-suite-3-banheiros-2-vagas-1070649835',\n",
       " 'https://al.olx.com.br/alagoas/imoveis/casa-com-3-dormitorios-a-venda-75-m-por-r-190-000-00-barro-vermelho-marechal-deodor-1070645540',\n",
       " 'https://al.olx.com.br/alagoas/imoveis/linda-casa-03-suites-com-piscina-em-condominio-fechado-1070645446',\n",
       " 'https://al.olx.com.br/alagoas/imoveis/casa-san-lorenzo-nova-1070645412',\n",
       " 'https://al.olx.com.br/alagoas/imoveis/otima-casa-condominio-fechado-04-suites-1070645391',\n",
       " 'https://al.olx.com.br/alagoas/imoveis/pronta-pra-morar-bairro-sao-luis-1070645363',\n",
       " 'https://al.olx.com.br/alagoas/imoveis/linda-casa-saia-do-aluguel-parcelas-apartir-de-523-00-1070645335',\n",
       " 'https://al.olx.com.br/alagoas/imoveis/gran-fiori-apartamento-02-quartos-sendo-01-suite-1070645245',\n",
       " 'https://al.olx.com.br/alagoas/imoveis/exclusividade-requinte-e-excelente-acabamento-casa-com-mobilia-e-piscina-1070645238',\n",
       " 'https://al.olx.com.br/alagoas/imoveis/residencial-espace-03-quartos-01-suite-1070645179',\n",
       " 'https://al.olx.com.br/alagoas/imoveis/casa-disponivel-no-condominio-center-park-1070645165',\n",
       " 'https://al.olx.com.br/alagoas/imoveis/otimo-acabamento-automacao-e-conforto-sao-os-pontos-fortes-dessa-linda-casa-1070645162',\n",
       " 'https://al.olx.com.br/alagoas/imoveis/casa-ampla-e-confortavel-ampla-e-tem-espaco-para-expansao-1070645147',\n",
       " 'https://al.olx.com.br/alagoas/imoveis/res-ouro-verde-linda-residencia-com-03-suites-com-closet-otimo-acabamento-1070645151']"
      ]
     },
     "execution_count": 64,
     "metadata": {},
     "output_type": "execute_result"
    }
   ],
   "source": [
    "ad_links"
   ]
  },
  {
   "cell_type": "code",
   "execution_count": null,
   "metadata": {},
   "outputs": [],
   "source": []
  }
 ],
 "metadata": {
  "kernelspec": {
   "display_name": "Python 3.10.4 64-bit",
   "language": "python",
   "name": "python3"
  },
  "language_info": {
   "codemirror_mode": {
    "name": "ipython",
    "version": 3
   },
   "file_extension": ".py",
   "mimetype": "text/x-python",
   "name": "python",
   "nbconvert_exporter": "python",
   "pygments_lexer": "ipython3",
   "version": "3.10.4"
  },
  "orig_nbformat": 4,
  "vscode": {
   "interpreter": {
    "hash": "f42f955e7f8da3c548e302e1e5347a7e875359e0d4da102c4592ccaca30f562a"
   }
  }
 },
 "nbformat": 4,
 "nbformat_minor": 2
}
