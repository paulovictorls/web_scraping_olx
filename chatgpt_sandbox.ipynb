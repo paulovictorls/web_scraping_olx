{
 "cells": [
  {
   "cell_type": "code",
   "execution_count": 3,
   "metadata": {},
   "outputs": [],
   "source": [
    "import requests\n",
    "from bs4 import BeautifulSoup\n",
    "\n",
    "\n",
    "class OLXScraper:\n",
    "    def __init__(self, url):\n",
    "        self.url = url\n",
    "    \n",
    "    def get_page_content(self):\n",
    "        response = requests.get(self.url)\n",
    "        return response.content\n",
    "    \n",
    "    def get_ad_info(self):\n",
    "        soup = BeautifulSoup(self.get_page_content(), 'html.parser')\n",
    "        \n",
    "        ad_title_elem = soup.find('h1', class_='sc-1qpw8kq-0 jwxfFC')\n",
    "        if not ad_title_elem:\n",
    "            print('Error: could not find ad title')\n",
    "            return None\n",
    "        ad_title = ad_title_elem.text.strip()\n",
    "        \n",
    "        ad_details_elem = soup.find('div', class_='sc-16iz3i7-0 fTuGra')\n",
    "        if not ad_details_elem:\n",
    "            print('Error: could not find ad details')\n",
    "            return None\n",
    "        ad_details = ad_details_elem.find_all('li')\n",
    "        ad_details_dict = {}\n",
    "        for detail in ad_details:\n",
    "            key = detail.find('span').text.strip()\n",
    "            value = detail.find('strong').text.strip()\n",
    "            ad_details_dict[key] = value\n",
    "        \n",
    "        return {\n",
    "            'title': ad_title,\n",
    "            'details': ad_details_dict\n",
    "        }\n"
   ]
  },
  {
   "cell_type": "code",
   "execution_count": 4,
   "metadata": {},
   "outputs": [
    {
     "name": "stdout",
     "output_type": "stream",
     "text": [
      "Error: could not find ad title\n",
      "None\n"
     ]
    }
   ],
   "source": [
    "url = 'https://al.olx.com.br/alagoas/imoveis/casa-de-condominio-para-venda-possui-180-metros-quadrados-com-3-quartos-1164286096'\n",
    "scraper = OLXScraper(url)\n",
    "ad_info = scraper.get_ad_info()\n",
    "print(ad_info)\n"
   ]
  },
  {
   "cell_type": "code",
   "execution_count": null,
   "metadata": {},
   "outputs": [],
   "source": []
  }
 ],
 "metadata": {
  "kernelspec": {
   "display_name": "Python 3",
   "language": "python",
   "name": "python3"
  },
  "language_info": {
   "codemirror_mode": {
    "name": "ipython",
    "version": 3
   },
   "file_extension": ".py",
   "mimetype": "text/x-python",
   "name": "python",
   "nbconvert_exporter": "python",
   "pygments_lexer": "ipython3",
   "version": "3.10.4"
  },
  "orig_nbformat": 4
 },
 "nbformat": 4,
 "nbformat_minor": 2
}
