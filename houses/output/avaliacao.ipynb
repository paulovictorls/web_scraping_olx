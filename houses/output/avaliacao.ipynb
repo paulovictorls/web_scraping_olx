{
 "cells": [
  {
   "cell_type": "code",
   "execution_count": 96,
   "metadata": {},
   "outputs": [],
   "source": [
    "import pandas as pd\n",
    "import numpy as np"
   ]
  },
  {
   "cell_type": "code",
   "execution_count": 97,
   "metadata": {},
   "outputs": [],
   "source": [
    "data = pd.read_csv('apto_vmariana.csv', sep=';', encoding = 'utf-8-sig')"
   ]
  },
  {
   "cell_type": "code",
   "execution_count": 98,
   "metadata": {},
   "outputs": [],
   "source": [
    "quarto_1 = data[data['Quartos'] == '1'].drop(['Description', 'Date', 'Hour', 'Tipo', 'Vagas na garagem', 'Detalhes do imóvel', 'Detalhes do condominio', 'Município'], axis=1)\n",
    "quarto_2 = data[data['Quartos'] == '2'].drop(['Description', 'Date', 'Hour', 'Tipo', 'Vagas na garagem', 'Detalhes do imóvel', 'Detalhes do condominio', 'Município'], axis=1)"
   ]
  },
  {
   "cell_type": "code",
   "execution_count": 99,
   "metadata": {},
   "outputs": [],
   "source": [
    "quarto_1['Price'].replace(to_replace='None', value=0, inplace=True)\n",
    "quarto_1['Price_'] = pd.to_numeric(quarto_1['Price'], downcast=\"float\")\n",
    "\n",
    "quarto_2['Price'].replace(to_replace='None', value=0, inplace=True)\n",
    "quarto_2['Price_'] = pd.to_numeric(quarto_2['Price'], downcast=\"float\")\n"
   ]
  },
  {
   "cell_type": "code",
   "execution_count": 100,
   "metadata": {},
   "outputs": [
    {
     "name": "stderr",
     "output_type": "stream",
     "text": [
      "C:\\Users\\PV\\AppData\\Local\\Temp/ipykernel_10220/3203869030.py:4: FutureWarning: The default value of regex will change from True to False in a future version.\n",
      "  quarto_1['Condomínio_'] = quarto_1['Condomínio_'].str.replace('\\.', '').astype(float)\n",
      "C:\\Users\\PV\\AppData\\Local\\Temp/ipykernel_10220/3203869030.py:9: FutureWarning: The default value of regex will change from True to False in a future version.\n",
      "  quarto_2['Condomínio_'] = quarto_2['Condomínio_'].str.replace('\\.', '').astype(float)\n"
     ]
    }
   ],
   "source": [
    "quarto_1['Condomínio_'] = quarto_1['Condomínio'].str[3:]\n",
    "quarto_1['Condomínio_'].replace(to_replace='None', value=0, inplace=True)\n",
    "quarto_1['Condomínio_'].replace(to_replace='nan', value=0, inplace=True)\n",
    "quarto_1['Condomínio_'] = quarto_1['Condomínio_'].str.replace('\\.', '').astype(float)\n",
    "\n",
    "quarto_2['Condomínio_'] = quarto_2['Condomínio'].str[3:]\n",
    "quarto_2['Condomínio_'].replace(to_replace='None', value=0, inplace=True)\n",
    "quarto_2['Condomínio_'].replace(to_replace='nan', value=0, inplace=True)\n",
    "quarto_2['Condomínio_'] = quarto_2['Condomínio_'].str.replace('\\.', '').astype(float)"
   ]
  },
  {
   "cell_type": "code",
   "execution_count": 101,
   "metadata": {},
   "outputs": [],
   "source": [
    "quarto_1['total_price'] = quarto_1['Price_'] + quarto_1['Condomínio_']\n",
    "\n",
    "quarto_2['total_price'] = quarto_2['Price_'] + quarto_2['Condomínio_']"
   ]
  },
  {
   "cell_type": "code",
   "execution_count": 102,
   "metadata": {},
   "outputs": [
    {
     "data": {
      "text/plain": [
       "count      1037.000000\n",
       "mean       3259.557377\n",
       "std       10842.516921\n",
       "min        1100.000000\n",
       "25%        2270.000000\n",
       "50%        2800.000000\n",
       "75%        3429.000000\n",
       "max      350830.000000\n",
       "Name: total_price, dtype: float64"
      ]
     },
     "execution_count": 102,
     "metadata": {},
     "output_type": "execute_result"
    }
   ],
   "source": [
    "quarto_1['total_price'].describe()"
   ]
  },
  {
   "cell_type": "code",
   "execution_count": 106,
   "metadata": {},
   "outputs": [],
   "source": [
    "from scipy import stats\n",
    "\n",
    "q1 = quarto_1[(np.abs(stats.zscore(quarto_1['Price_'])) < 3)]\n",
    "\n",
    "q2 = quarto_2[(np.abs(stats.zscore(quarto_2['Price_'])) < 3)]\n"
   ]
  },
  {
   "cell_type": "code",
   "execution_count": 108,
   "metadata": {},
   "outputs": [],
   "source": [
    "q22 = q2[(np.abs(stats.zscore(q2['Price_'])) < 3)]\n"
   ]
  },
  {
   "cell_type": "code",
   "execution_count": 109,
   "metadata": {},
   "outputs": [
    {
     "data": {
      "text/plain": [
       "<AxesSubplot:ylabel='Frequency'>"
      ]
     },
     "execution_count": 109,
     "metadata": {},
     "output_type": "execute_result"
    },
    {
     "data": {
      "image/png": "[encoded data removed]",
      "text/plain": [
       "<Figure size 432x288 with 1 Axes>"
      ]
     },
     "metadata": {
      "needs_background": "light"
     },
     "output_type": "display_data"
    }
   ],
   "source": [
    "q1['total_price'].plot.hist(bins=50, alpha=0.5)\n",
    "q22['total_price'].plot.hist(bins=50, alpha=0.5)"
   ]
  },
  {
   "cell_type": "code",
   "execution_count": 112,
   "metadata": {},
   "outputs": [
    {
     "data": {
      "text/plain": [
       "count    1036.000000\n",
       "mean     2924.064672\n",
       "std       917.105019\n",
       "min      1100.000000\n",
       "25%      2268.250000\n",
       "50%      2800.000000\n",
       "75%      3429.000000\n",
       "max      7700.000000\n",
       "Name: total_price, dtype: float64"
      ]
     },
     "execution_count": 112,
     "metadata": {},
     "output_type": "execute_result"
    }
   ],
   "source": [
    "q1['total_price'].describe()"
   ]
  },
  {
   "cell_type": "code",
   "execution_count": 113,
   "metadata": {},
   "outputs": [
    {
     "data": {
      "text/plain": [
       "count    1283.000000\n",
       "mean     3659.108340\n",
       "std      1139.040321\n",
       "min      1300.000000\n",
       "25%      2950.000000\n",
       "50%      3485.000000\n",
       "75%      3973.500000\n",
       "max      9090.000000\n",
       "Name: total_price, dtype: float64"
      ]
     },
     "execution_count": 113,
     "metadata": {},
     "output_type": "execute_result"
    }
   ],
   "source": [
    "q22['total_price'].describe()"
   ]
  },
  {
   "cell_type": "code",
   "execution_count": null,
   "metadata": {},
   "outputs": [],
   "source": []
  }
 ],
 "metadata": {
  "interpreter": {
   "hash": "7edb7ad3cfa8dfe7ddce3467758865b97f17738fdc0fbed83fc049dcab7a68e8"
  },
  "kernelspec": {
   "display_name": "Python 3.9.7 64-bit",
   "language": "python",
   "name": "python3"
  },
  "language_info": {
   "codemirror_mode": {
    "name": "ipython",
    "version": 3
   },
   "file_extension": ".py",
   "mimetype": "text/x-python",
   "name": "python",
   "nbconvert_exporter": "python",
   "pygments_lexer": "ipython3",
   "version": "3.9.7"
  },
  "orig_nbformat": 4
 },
 "nbformat": 4,
 "nbformat_minor": 2
}
